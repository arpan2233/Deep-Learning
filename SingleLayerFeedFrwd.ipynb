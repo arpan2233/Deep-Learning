{
  "nbformat": 4,
  "nbformat_minor": 0,
  "metadata": {
    "colab": {
      "provenance": [],
      "authorship_tag": "ABX9TyP0E8YB9AkS1aQkJUNCnv9k",
      "include_colab_link": true
    },
    "kernelspec": {
      "name": "python3",
      "display_name": "Python 3"
    },
    "language_info": {
      "name": "python"
    }
  },
  "cells": [
    {
      "cell_type": "markdown",
      "metadata": {
        "id": "view-in-github",
        "colab_type": "text"
      },
      "source": [
        "<a href=\"https://colab.research.google.com/github/arpan2233/Deep-Learning/blob/main/SingleLayerFeedFrwd.ipynb\" target=\"_parent\"><img src=\"https://colab.research.google.com/assets/colab-badge.svg\" alt=\"Open In Colab\"/></a>"
      ]
    },
    {
      "cell_type": "code",
      "execution_count": 1,
      "metadata": {
        "id": "8RHSUYzpuC_8"
      },
      "outputs": [],
      "source": [
        "import numpy as np\n",
        "import matplotlib.pyplot as plt\n"
      ]
    },
    {
      "cell_type": "code",
      "source": [
        "def step_function(x):\n",
        "    return 1 if x >= 0 else 0\n"
      ],
      "metadata": {
        "id": "3epyPbqqvIpa"
      },
      "execution_count": 2,
      "outputs": []
    },
    {
      "cell_type": "code",
      "source": [
        "class Perceptron:\n",
        "    def __init__(self, input_size, learning_rate=0.1, epochs=10):\n",
        "        self.weights = np.random.randn(input_size + 1)  # +1 for bias\n",
        "        self.lr = learning_rate\n",
        "        self.epochs = epochs\n",
        "\n",
        "    def predict(self, x):\n",
        "        x = np.insert(x, 0, 1)  # Add bias term\n",
        "        return step_function(np.dot(x, self.weights))\n",
        "\n",
        "    def train(self, X, y):\n",
        "        for epoch in range(self.epochs):\n",
        "            total_error = 0\n",
        "            for i in range(len(X)):\n",
        "                x_i = np.insert(X[i], 0, 1)  # Add bias\n",
        "                y_pred = self.predict(X[i])\n",
        "                error = y[i] - y_pred\n",
        "                self.weights += self.lr * error * x_i  # Weight update\n",
        "                total_error += abs(error)\n",
        "            print(f\"Epoch {epoch+1}: Total Error = {total_error}\")\n",
        "            if total_error == 0:\n",
        "                break  # Stop if no errors\n"
      ],
      "metadata": {
        "id": "oo_oebMivK-T"
      },
      "execution_count": 3,
      "outputs": []
    },
    {
      "cell_type": "code",
      "source": [
        "# XOR inputs\n",
        "X = np.array([[0, 0], [0, 1], [1, 0], [1, 1]])\n",
        "# XOR outputs\n",
        "y = np.array([0, 1, 1, 0])  # XOR truth table\n"
      ],
      "metadata": {
        "id": "r6a5l77zvNys"
      },
      "execution_count": 4,
      "outputs": []
    },
    {
      "cell_type": "code",
      "source": [
        "perceptron = Perceptron(input_size=2, learning_rate=0.1, epochs=10)\n",
        "perceptron.train(X, y)\n",
        "\n",
        "# Check predictions\n",
        "for i in range(len(X)):\n",
        "    print(f\"Input: {X[i]} -> Prediction: {perceptron.predict(X[i])}\")\n"
      ],
      "metadata": {
        "colab": {
          "base_uri": "https://localhost:8080/"
        },
        "id": "BSKF9oI4vPta",
        "outputId": "eb7ab158-deb2-42a0-9cbf-ee4510bc7620"
      },
      "execution_count": 5,
      "outputs": [
        {
          "output_type": "stream",
          "name": "stdout",
          "text": [
            "Epoch 1: Total Error = 2\n",
            "Epoch 2: Total Error = 2\n",
            "Epoch 3: Total Error = 2\n",
            "Epoch 4: Total Error = 1\n",
            "Epoch 5: Total Error = 1\n",
            "Epoch 6: Total Error = 2\n",
            "Epoch 7: Total Error = 1\n",
            "Epoch 8: Total Error = 2\n",
            "Epoch 9: Total Error = 2\n",
            "Epoch 10: Total Error = 1\n",
            "Input: [0 0] -> Prediction: 0\n",
            "Input: [0 1] -> Prediction: 1\n",
            "Input: [1 0] -> Prediction: 0\n",
            "Input: [1 1] -> Prediction: 0\n"
          ]
        }
      ]
    },
    {
      "cell_type": "markdown",
      "source": [
        "The Perceptron fails to learn XOR because XOR is not linearly separable. The decision boundary of a single-layer perceptron is a straight line, but XOR requires a more complex boundary (two lines).\n",
        "\n"
      ],
      "metadata": {
        "id": "5iDwxhJuvYhd"
      }
    },
    {
      "cell_type": "code",
      "source": [
        "from sklearn.neural_network import MLPClassifier\n",
        "\n",
        "# Train MLP\n",
        "mlp = MLPClassifier(hidden_layer_sizes=(2,), activation='relu', solver='adam', max_iter=1000)\n",
        "mlp.fit(X, y)\n",
        "\n",
        "# Test predictions\n",
        "y_pred = mlp.predict(X)\n",
        "print(f\"MLP Predictions: {y_pred}\")\n"
      ],
      "metadata": {
        "colab": {
          "base_uri": "https://localhost:8080/"
        },
        "id": "r2AuGik4veFi",
        "outputId": "d4774c07-960b-4225-8cd6-fd5747f2f4f2"
      },
      "execution_count": 6,
      "outputs": [
        {
          "output_type": "stream",
          "name": "stdout",
          "text": [
            "MLP Predictions: [1 0 1 0]\n"
          ]
        }
      ]
    }
  ]
}